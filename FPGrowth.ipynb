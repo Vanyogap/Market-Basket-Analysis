{
 "cells": [
  {
   "cell_type": "markdown",
   "metadata": {},
   "source": [
    "# FP Growth Approach to determine Frequent Item Sets"
   ]
  },
  {
   "cell_type": "raw",
   "metadata": {},
   "source": [
    "Student Name : Yogapriya Vankdari\n",
    "Student ID   : 2040973\n",
    "\n",
    "\n",
    "Steps :\n",
    "\n",
    "Step1: Read the csv file\n",
    "Step2: Input Min support\n",
    "Step3: Find the unique items and their support count\n",
    "Step4: Sort the list\n",
    "Step5: Build FP Tree from the obtained support count table\n",
    "Step6: Mine the FP Tree to find frequent sets\n",
    "Step7: Print the output and write it to a file"
   ]
  },
  {
   "cell_type": "code",
   "execution_count": null,
   "metadata": {},
   "outputs": [],
   "source": [
    "#open file to write the intermediate updates\n",
    "output_file = open(\"Z:\\Big Data and Data Mining\\Assignments\\CourseWork1\\FPGrowth.txt\",'w')"
   ]
  },
  {
   "cell_type": "code",
   "execution_count": null,
   "metadata": {},
   "outputs": [],
   "source": [
    "#Import libararies\n",
    "from timeit import default_timer as timer\n",
    "import os\n",
    "os.environ['KMP_DUPLICATE_LIB_OK']='True'\n",
    "#Read minimum support\n",
    "freq_itemset = []\n",
    "min_support = input(\"Enter the value of minimum support\\n\")"
   ]
  },
  {
   "cell_type": "code",
   "execution_count": null,
   "metadata": {},
   "outputs": [],
   "source": [
    "#Class FP Tree Node\n",
    "class FPTreeNode:\n",
    "    def __init__(self, name,count,parent_node):\n",
    "        self.name = name\n",
    "        self.count = count\n",
    "        self.link = None\n",
    "        self.parent = parent_node\n",
    "        self.children = {}\n",
    "        \n",
    "    def __str__(self, level=0):\n",
    "        ret = \"\\t\"*level+repr(self.name)+\"\\n\"\n",
    "        for child in self.children:\n",
    "            ret += (self.children[child]).__str__(level+1)\n",
    "        return ret\n",
    "    \n",
    "    def __repr__(self):\n",
    "        return '<fpnode>'\n",
    "    \n",
    "    def increment_counter(self, count):\n",
    "        self.count += count"
   ]
  },
  {
   "cell_type": "code",
   "execution_count": null,
   "metadata": {},
   "outputs": [],
   "source": [
    "#Add fp node to a specific position\n",
    "def add_fp_nodes(item, fptree, header, count):\n",
    "    if item[0] in fptree.children:\n",
    "        fptree.children[item[0]].increment_counter(count)\n",
    "    else:\n",
    "        fptree.children[item[0]] = FPTreeNode(item[0], count, fptree)\n",
    "        if header[item[0]][1] == None:\n",
    "            header[item[0]][1] = fptree.children[item[0]]\n",
    "        else:\n",
    "            while (header[item[0]][1].link != None):\n",
    "                header[item[0]][1] = header[item[0]][1].link     \n",
    "            header[item[0]][1].link = fptree.children[item[0]]\n",
    "    if len(item) > 1:\n",
    "        add_fp_nodes(item[1::], fptree.children[item[0]], header, count)"
   ]
  },
  {
   "cell_type": "code",
   "execution_count": null,
   "metadata": {},
   "outputs": [],
   "source": [
    "#Traversal\n",
    "def traverse(leaf, path):\n",
    "    if leaf.parent != None:\n",
    "        path.append(leaf.name)\n",
    "        traverse(leaf.parent,path)"
   ]
  },
  {
   "cell_type": "code",
   "execution_count": null,
   "metadata": {},
   "outputs": [],
   "source": [
    "#Function to read a file, and build fptree based on the data provided\n",
    "def read_and_createTree(set_dictionary,read_from_file):\n",
    "    if(read_from_file == 1):\n",
    "        file_content = list()\n",
    "        with open('Z:\\Big Data and Data Mining\\Assignments\\CourseWork1\\GroceryStore.csv') as f:\n",
    "            rows = f.readlines()\n",
    "        for i in rows:\n",
    "            line = i.strip().strip(\",\")\n",
    "            file_content.append(line.split(','))\n",
    "\n",
    "        set_dictionary = {}\n",
    "        for j in file_content:\n",
    "            if frozenset(j) in set_dictionary.keys():\n",
    "                   set_dictionary[frozenset(j)] += 1\n",
    "            else:\n",
    "                   set_dictionary[frozenset(j)] = 1\n",
    "\n",
    "    header = {}\n",
    "    for k in set_dictionary:\n",
    "        for key in k:\n",
    "            header[key] = header.get(key,0) + set_dictionary[k]\n",
    "    \n",
    "    for l in list(header):\n",
    "        if(header[l] < int(min_support)):\n",
    "            del(header[l])\n",
    "    \n",
    "    freq_items = set(header.keys())\n",
    "    \n",
    "    for m in header:\n",
    "        header[m] = [header[m], None]\n",
    "    \n",
    "    Tree = FPTreeNode('Null',1,None)\n",
    "    for item_set_fptree,count in set_dictionary.items():\n",
    "        tx = {}\n",
    "        for item in item_set_fptree:\n",
    "            if item in freq_items:\n",
    "                tx[item] = header[item][0]\n",
    "        if len(tx) > 0:\n",
    "            ordered_itemset = [v[0] for v in sorted(tx.items(), key=lambda p: p[1], reverse=True)]\n",
    "           #the nodes are updated into tree\n",
    "            add_fp_nodes(ordered_itemset, Tree, header, count)  \n",
    "    return Tree, header"
   ]
  },
  {
   "cell_type": "code",
   "execution_count": null,
   "metadata": {},
   "outputs": [],
   "source": [
    "#Function to mine the obtained fptree adn generate frequent item sets\n",
    "def mining(fptree, header, preset, freq_itemset):\n",
    "        FP = [x[0] for x in sorted(header.items(),key=lambda p: p[1][0])]\n",
    "        for base in FP:\n",
    "            frequent_item_set = preset.copy()\n",
    "            frequent_item_set.add(base)\n",
    "            freq_itemset.append(frequent_item_set)\n",
    "            pattern_base = {}\n",
    "            while header[base][1] != None:\n",
    "                path = []\n",
    "                traverse(header[base][1],path)\n",
    "                if len(path) > 1:\n",
    "                    pattern_base[frozenset(path[1:])] = header[base][1].count\n",
    "                header[base][1] = header[base][1].link\n",
    "            conditional_Tree, conditional_header = read_and_createTree(pattern_base,0)\n",
    "            \n",
    "            if(conditional_header != None):\n",
    "                mining(conditional_Tree, conditional_header,frequent_item_set, freq_itemset)"
   ]
  },
  {
   "cell_type": "code",
   "execution_count": null,
   "metadata": {},
   "outputs": [],
   "source": [
    "start = timer()\n",
    "fp_Dict = {}\n",
    "fptree,header = read_and_createTree(fp_Dict,1)\n",
    "preset = set([])\n",
    "mining(fptree,header,preset,freq_itemset)\n",
    "end = timer()"
   ]
  },
  {
   "cell_type": "code",
   "execution_count": null,
   "metadata": {},
   "outputs": [],
   "source": [
    "fptree_str =str(fptree)\n",
    "freq_item_str = str(freq_itemset)\n",
    "total_time = end-start\n",
    "\n",
    "output_file.write(\"1.minimum support :\" + min_support)\n",
    "print(\"1.minimum support:\"+min_support)\n",
    "output_file.write(\"\\n\\n2.FP Growth Approach:\")  \n",
    "print(\"\\n\\n2 FP Growth Approach:\")\n",
    "output_file.write(\"\\n\\n\\n3.FP_tree:\\n\"+fptree_str)\n",
    "print(\"\\n\\n\\n3.FP_tree:\\n\"+fptree_str)\n",
    "output_file.write(\"\\n\\n\\n4.Frequent_sets:\\n\"+str(freq_itemset))\n",
    "print(\"\\n\\n\\n4.Frequent_sets:\\n\"+str(freq_itemset))\n",
    "\n",
    "output_file.write(\"\\n\\n5.Time taken for execution using bruteforce approach:\"+str(total_time)) \n",
    "print(\"\\n\\n5.Time taken for execution using FP Growth approach:\" + str(total_time))"
   ]
  },
  {
   "cell_type": "code",
   "execution_count": null,
   "metadata": {},
   "outputs": [],
   "source": [
    "#Close output file after writing\n",
    "output_file.close()"
   ]
  },
  {
   "cell_type": "code",
   "execution_count": null,
   "metadata": {},
   "outputs": [],
   "source": []
  }
 ],
 "metadata": {
  "kernelspec": {
   "display_name": "Python 3",
   "language": "python",
   "name": "python3"
  },
  "language_info": {
   "codemirror_mode": {
    "name": "ipython",
    "version": 3
   },
   "file_extension": ".py",
   "mimetype": "text/x-python",
   "name": "python",
   "nbconvert_exporter": "python",
   "pygments_lexer": "ipython3",
   "version": "3.8.5"
  }
 },
 "nbformat": 4,
 "nbformat_minor": 4
}
