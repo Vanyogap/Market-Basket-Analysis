{
 "cells": [
  {
   "cell_type": "markdown",
   "metadata": {},
   "source": [
    "# BruteForce Approach to determine Frequent Item Sets"
   ]
  },
  {
   "cell_type": "raw",
   "metadata": {},
   "source": [
    "Student Name : Yogapriya Vankdari\n",
    "Student ID   : 2040973\n",
    "\n",
    "\n",
    "Steps :\n",
    "\n",
    "Step1: Read the csv file\n",
    "Step2: Input Min support and Min Confidence\n",
    "Step3: Find the unique items from the data provided\n",
    "Step4: Find all the possible candidate sets\n",
    "Step5: Find the support count of each candidate set\n",
    "Step6: Prune the candidates to determine frequent item sets\n",
    "Step7: Print the output and write it to a file\n",
    "Step8: Find the association rules - for the obtained frequent item set"
   ]
  },
  {
   "cell_type": "code",
   "execution_count": null,
   "metadata": {},
   "outputs": [],
   "source": [
    "#Import libraries\n",
    "from timeit import default_timer as timer\n",
    "from itertools import combinations\n",
    "from collections import Counter\n",
    "from itertools import chain\n",
    "import pandas as pd\n",
    "import numpy as np\n",
    "import csv\n",
    "\n",
    "#Final frequent sets declaration\n",
    "bruteforce_freq_item = []\n",
    "count_list = []\n",
    "\n",
    "#Read from CSV file into DataFrame\n",
    "all_columns = [\"1\",\"2\",\"3\",\"4\",\"5\",\"6\",\"7\",\"8\",\"9\",\"10\",\"11\",\"12\",\"13\",\"14\",\"15\"]\n",
    "df = pd.read_csv(\"Z:\\Big Data and Data Mining\\Assignments\\CourseWork1\\GroceryStore.csv\",names = all_columns)\n",
    "df.head()"
   ]
  },
  {
   "cell_type": "code",
   "execution_count": null,
   "metadata": {},
   "outputs": [],
   "source": [
    "#open file to write the intermediate updates\n",
    "output_file = open(\"Z:\\Big Data and Data Mining\\Assignments\\CourseWork1\\BruteForce.txt\",'w')"
   ]
  },
  {
   "cell_type": "code",
   "execution_count": null,
   "metadata": {},
   "outputs": [],
   "source": [
    "#Read minimum support and confidence\n",
    "min_support = input(\"Enter the value of minimum support\\n\")\n",
    "min_confidence = input(\"Enter the value of minimum confidence\\n\")"
   ]
  },
  {
   "cell_type": "code",
   "execution_count": null,
   "metadata": {},
   "outputs": [],
   "source": [
    "#Find unique_items in list\n",
    "def unique_items(dataframe):\n",
    "    item_list = dataframe.values.tolist()\n",
    "    flat_item_list = list(chain.from_iterable(item_list))\n",
    "    unique_item_list = list(set(flat_item_list))\n",
    "    unique_item_list = list(filter(None, unique_item_list))\n",
    "    return unique_item_list "
   ]
  },
  {
   "cell_type": "code",
   "execution_count": null,
   "metadata": {},
   "outputs": [],
   "source": [
    "#Function to write list into file and print it on screen\n",
    "def write_list_to_file(message,item_list):\n",
    "    item_list_str = \"\\n\".join(item_list)\n",
    "    output_file.write(message + item_list_str)\n",
    "    print(message + item_list_str)"
   ]
  },
  {
   "cell_type": "code",
   "execution_count": null,
   "metadata": {},
   "outputs": [],
   "source": [
    "#Finding support count of combinations\n",
    "def find_support_count(candidates,item_list):\n",
    "    count = 0\n",
    "    k = 0\n",
    "    support_set = [0]*len(candidates)\n",
    "    for i in range(len(candidates)):\n",
    "        for j in range(len(df)):\n",
    "                if(set(candidates[i]).issubset(set(item_list[j]))): \n",
    "                         count += 1\n",
    "        support_set[k] = count\n",
    "        count = 0\n",
    "        k = k+1\n",
    "    return support_set"
   ]
  },
  {
   "cell_type": "code",
   "execution_count": null,
   "metadata": {},
   "outputs": [],
   "source": [
    "#Prune the sets that donot satisfy min support value\n",
    "def prune(candidates,count):\n",
    "    freq_list = []\n",
    "    count_freq = []\n",
    "    for i in range(0,len(candidates)):\n",
    "        if(count[i]>=int(min_support)):\n",
    "            freq_list.append(candidates[i])\n",
    "            count_freq.append(count[i])\n",
    "    return freq_list,count_freq"
   ]
  },
  {
   "cell_type": "code",
   "execution_count": null,
   "metadata": {},
   "outputs": [],
   "source": [
    "#Bruteforce approach to find frequent item set\n",
    "def bruteforce(dataframe,n):\n",
    "    start = timer()\n",
    "#   Find unique items\n",
    "    unique_item_list = unique_items(dataframe)\n",
    "    item_list = [x for x in unique_item_list if pd.isnull(x) == False]\n",
    "    data_list = df.values.tolist() \n",
    "    \n",
    "# Find combinations, candidates and then prune to get final frequent set\n",
    "    candidate_list = []\n",
    "    for i in range(1,n):\n",
    "        comb = combinations(item_list,i)\n",
    "        candidates = list(comb)\n",
    "        candidate_list.append(candidates)\n",
    "        count = find_support_count(candidates,data_list)\n",
    "        freq_item_set,count = prune(candidates,count) \n",
    "        if(count):\n",
    "            count_list.append(count)\n",
    "        if(freq_item_set):\n",
    "            bruteforce_freq_item.append(freq_item_set)\n",
    "    end = timer()\n",
    "    \n",
    "    #prepare to write to output file\n",
    "    candidate_str = [0]*len(candidate_list)\n",
    "    bruteforce_str = [0]*len(bruteforce_freq_item)\n",
    "    for i in range(len(candidate_list)):\n",
    "        candidate_str[i] = ''.join(str(candidate_list[i]))\n",
    "    for i in range(len(bruteforce_freq_item)):\n",
    "        bruteforce_str[i] = ''.join(str(bruteforce_freq_item[i]))\n",
    "    \n",
    "    #calculate time taken to execute for bruteforce approach\n",
    "    total_time = end - start\n",
    "    \n",
    "    \n",
    "    #Write output to file and print the output\n",
    "    output_file.write(\"1.minimum support :\" + min_support)\n",
    "    print(\"1.minimum support:\"+min_support)\n",
    "    output_file.write(\"\\n\\n2.minimum confidence :\" + min_confidence)\n",
    "    print(\"\\n\\n2.minimum confidence :\" + min_confidence)\n",
    "    output_file.write(\"\\n\\n3.Brute Force Approach:\")  \n",
    "    print(\"\\n\\n3.Brute Force Approach:\")\n",
    "    write_list_to_file(\"\\n\\n\\n3a.Unique item list:\\n\",item_list)\n",
    "    write_list_to_file(\"\\n\\n\\n3b.1,2,3,4,5 item sets:\\n\",candidate_str)\n",
    "    write_list_to_file(\"\\n\\n\\n3c.frequent item sets:\\n\",bruteforce_str)\n",
    "    output_file.write(\"\\n\\n4.Time taken for execution using bruteforce approach:\"+str(total_time)) \n",
    "    print(\"\\n\\n4.Time taken for execution using bruteforce approach:\" + str(total_time))"
   ]
  },
  {
   "cell_type": "code",
   "execution_count": null,
   "metadata": {},
   "outputs": [],
   "source": [
    "#Bruteforce function call\n",
    "bruteforce(df,6)"
   ]
  },
  {
   "cell_type": "code",
   "execution_count": null,
   "metadata": {},
   "outputs": [],
   "source": [
    "#Function call Association rules\n",
    "def association_rules():\n",
    "    confidence_percentage = int(min_confidence)/100\n",
    "    output_file.write(\"\\n\\n5.Association Rules:\\n\")\n",
    "    n = len(bruteforce_freq_item)-1\n",
    "    x = n\n",
    "    z = n\n",
    "    for i in range(n,0,-1):\n",
    "        for j in range(len(bruteforce_freq_item[z])):\n",
    "            numerator = bruteforce_freq_item[z][j]\n",
    "            numerator_value = count_list[z][j]\n",
    "            x = z\n",
    "            for y in range(0,z):\n",
    "                for k in range(len(count_list[x-1])):\n",
    "                    denominator = bruteforce_freq_item[x-1][k]\n",
    "                    denominator_value = count_list[x-1][k]\n",
    "                    if(denominator_value):\n",
    "                        if(set(denominator).issubset(set(numerator))):\n",
    "                            if((numerator_value/denominator_value)>=confidence_percentage):\n",
    "                                print(str(denominator)+\"----->\"+str(set(numerator)-set(denominator))+\"             :\"+str(round((numerator_value/denominator_value)*100,2))+\"%\")\n",
    "                                output_file.write(\"\\n\"+str(denominator)+\"----->\"+str(set(numerator)-set(denominator))+\"             :\"+str(round((numerator_value/denominator_value)*100,2))+\"%\")\n",
    "                x = x-1\n",
    "        z = z-1"
   ]
  },
  {
   "cell_type": "code",
   "execution_count": null,
   "metadata": {},
   "outputs": [],
   "source": [
    "#association rule function call\n",
    "association_rules()"
   ]
  },
  {
   "cell_type": "code",
   "execution_count": null,
   "metadata": {},
   "outputs": [],
   "source": [
    "#Close output file after writing\n",
    "output_file.close()"
   ]
  }
 ],
 "metadata": {
  "kernelspec": {
   "display_name": "Python 3",
   "language": "python",
   "name": "python3"
  },
  "language_info": {
   "codemirror_mode": {
    "name": "ipython",
    "version": 3
   },
   "file_extension": ".py",
   "mimetype": "text/x-python",
   "name": "python",
   "nbconvert_exporter": "python",
   "pygments_lexer": "ipython3",
   "version": "3.8.5"
  }
 },
 "nbformat": 4,
 "nbformat_minor": 4
}
